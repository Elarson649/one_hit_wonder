{
 "cells": [
  {
   "cell_type": "code",
   "execution_count": 40,
   "metadata": {},
   "outputs": [],
   "source": [
    "import keras\n",
    "import pandas as pd\n",
    "import numpy as np\n",
    "import pickle\n",
    "import xgboost as xgb\n",
    "import seaborn as sns\n",
    "import matplotlib.pyplot as plt\n",
    "from import_and_clean_data import import_and_clean_data\n",
    "from import_yearly_data import import_yearly_data\n",
    "from feature_engineering import feature_engineering\n",
    "from moving_average_graph import moving_average_graph\n",
    "from class_model import class_model\n",
    "from sklearn.neighbors import KNeighborsClassifier\n",
    "from sklearn.preprocessing import StandardScaler, PolynomialFeatures\n",
    "from sklearn.linear_model import LogisticRegression \n",
    "from sklearn.ensemble import RandomForestClassifier\n",
    "from sklearn.svm import LinearSVC\n",
    "from sklearn.model_selection import train_test_split,GridSearchCV\n",
    "from sklearn.dummy import DummyClassifier\n",
    "from sklearn.metrics import roc_auc_score,precision_score,recall_score,f1_score,accuracy_score,confusion_matrix,precision_recall_curve"
   ]
  },
  {
   "cell_type": "code",
   "execution_count": 2,
   "metadata": {},
   "outputs": [],
   "source": [
    "%load_ext autoreload\n",
    "%autoreload 2"
   ]
  },
  {
   "cell_type": "markdown",
   "metadata": {},
   "source": [
    "# Import and cleaning data"
   ]
  },
  {
   "cell_type": "code",
   "execution_count": null,
   "metadata": {},
   "outputs": [],
   "source": [
    "#Takes 3-4 hours due to the Genius API\n",
    "weekly_filepath='Hot Stuff.csv'\n",
    "df=import_and_clean_data(weekly_filepath)"
   ]
  },
  {
   "cell_type": "code",
   "execution_count": null,
   "metadata": {},
   "outputs": [],
   "source": [
    "# with open('0617_pre_engineering.pickle','rb') as read_file:\n",
    "#     df = pickle.load(read_file)"
   ]
  },
  {
   "cell_type": "code",
   "execution_count": null,
   "metadata": {},
   "outputs": [],
   "source": [
    "year_end_filepath='billboard_lyrics_1964_2015.csv'\n",
    "df_lyrics, df_genre_summary, df_features=import_yearly_data(year_end_filepath)"
   ]
  },
  {
   "cell_type": "markdown",
   "metadata": {},
   "source": [
    "# Feature Engineering"
   ]
  },
  {
   "cell_type": "code",
   "execution_count": null,
   "metadata": {},
   "outputs": [],
   "source": [
    "df=feature_engineering(df, df_lyrics, df_genre_summary, df_features)"
   ]
  },
  {
   "cell_type": "markdown",
   "metadata": {},
   "source": [
    "# Modeling Prep"
   ]
  },
  {
   "cell_type": "code",
   "execution_count": null,
   "metadata": {},
   "outputs": [],
   "source": [
    "#One hot encode categorical columns\n",
    "df=pd.get_dummies(df,columns=['decade'],drop_first=True)"
   ]
  },
  {
   "cell_type": "code",
   "execution_count": 3,
   "metadata": {},
   "outputs": [],
   "source": [
    "with open('0617_modeling_data.pickle','rb') as read_file:\n",
    "    df = pickle.load(read_file)"
   ]
  },
  {
   "cell_type": "code",
   "execution_count": 4,
   "metadata": {},
   "outputs": [],
   "source": [
    "X=df.drop(columns=['one_hit'])\n",
    "y=df['one_hit']\n",
    "X_trainval,X_test,y_trainval,y_test=train_test_split(X, y, test_size=.2, random_state=4, stratify=y)"
   ]
  },
  {
   "cell_type": "code",
   "execution_count": 5,
   "metadata": {},
   "outputs": [],
   "source": [
    "std=StandardScaler()\n",
    "X_trainval_scaled=std.fit_transform(X_trainval)\n",
    "X_test_scaled=std.transform(X_test)"
   ]
  },
  {
   "cell_type": "markdown",
   "metadata": {},
   "source": [
    "# Dummy Classifier"
   ]
  },
  {
   "cell_type": "code",
   "execution_count": 6,
   "metadata": {},
   "outputs": [
    {
     "name": "stdout",
     "output_type": "stream",
     "text": [
      "Dummy Classifier\n",
      "accuracy_scores_train 0.5216666666666667\n",
      "f1_scores_train 0.0\n",
      "roc_auc_scores_train 0.5\n",
      "recall_scores_train 0.0\n",
      "precision_scores_train 0.0\n",
      "accuracy_scores_val 0.5216666666666667\n",
      "f1_scores_val 0.0\n",
      "roc_auc_scores_val 0.5\n",
      "recall_scores_val 0.0\n",
      "precision_scores_val 0.0\n"
     ]
    },
    {
     "name": "stderr",
     "output_type": "stream",
     "text": [
      "/opt/anaconda3/envs/metis/lib/python3.7/site-packages/sklearn/metrics/classification.py:1437: UndefinedMetricWarning: F-score is ill-defined and being set to 0.0 due to no predicted samples.\n",
      "  'precision', 'predicted', average, warn_for)\n",
      "/opt/anaconda3/envs/metis/lib/python3.7/site-packages/sklearn/metrics/classification.py:1437: UndefinedMetricWarning: Precision is ill-defined and being set to 0.0 due to no predicted samples.\n",
      "  'precision', 'predicted', average, warn_for)\n",
      "/opt/anaconda3/envs/metis/lib/python3.7/site-packages/sklearn/metrics/classification.py:1437: UndefinedMetricWarning: F-score is ill-defined and being set to 0.0 due to no predicted samples.\n",
      "  'precision', 'predicted', average, warn_for)\n",
      "/opt/anaconda3/envs/metis/lib/python3.7/site-packages/sklearn/metrics/classification.py:1437: UndefinedMetricWarning: Precision is ill-defined and being set to 0.0 due to no predicted samples.\n",
      "  'precision', 'predicted', average, warn_for)\n",
      "/opt/anaconda3/envs/metis/lib/python3.7/site-packages/sklearn/metrics/classification.py:1437: UndefinedMetricWarning: F-score is ill-defined and being set to 0.0 due to no predicted samples.\n",
      "  'precision', 'predicted', average, warn_for)\n",
      "/opt/anaconda3/envs/metis/lib/python3.7/site-packages/sklearn/metrics/classification.py:1437: UndefinedMetricWarning: Precision is ill-defined and being set to 0.0 due to no predicted samples.\n",
      "  'precision', 'predicted', average, warn_for)\n",
      "/opt/anaconda3/envs/metis/lib/python3.7/site-packages/sklearn/metrics/classification.py:1437: UndefinedMetricWarning: F-score is ill-defined and being set to 0.0 due to no predicted samples.\n",
      "  'precision', 'predicted', average, warn_for)\n",
      "/opt/anaconda3/envs/metis/lib/python3.7/site-packages/sklearn/metrics/classification.py:1437: UndefinedMetricWarning: Precision is ill-defined and being set to 0.0 due to no predicted samples.\n",
      "  'precision', 'predicted', average, warn_for)\n",
      "/opt/anaconda3/envs/metis/lib/python3.7/site-packages/sklearn/metrics/classification.py:1437: UndefinedMetricWarning: F-score is ill-defined and being set to 0.0 due to no predicted samples.\n",
      "  'precision', 'predicted', average, warn_for)\n",
      "/opt/anaconda3/envs/metis/lib/python3.7/site-packages/sklearn/metrics/classification.py:1437: UndefinedMetricWarning: Precision is ill-defined and being set to 0.0 due to no predicted samples.\n",
      "  'precision', 'predicted', average, warn_for)\n",
      "/opt/anaconda3/envs/metis/lib/python3.7/site-packages/sklearn/metrics/classification.py:1437: UndefinedMetricWarning: F-score is ill-defined and being set to 0.0 due to no predicted samples.\n",
      "  'precision', 'predicted', average, warn_for)\n",
      "/opt/anaconda3/envs/metis/lib/python3.7/site-packages/sklearn/metrics/classification.py:1437: UndefinedMetricWarning: Precision is ill-defined and being set to 0.0 due to no predicted samples.\n",
      "  'precision', 'predicted', average, warn_for)\n",
      "/opt/anaconda3/envs/metis/lib/python3.7/site-packages/sklearn/metrics/classification.py:1437: UndefinedMetricWarning: F-score is ill-defined and being set to 0.0 due to no predicted samples.\n",
      "  'precision', 'predicted', average, warn_for)\n",
      "/opt/anaconda3/envs/metis/lib/python3.7/site-packages/sklearn/metrics/classification.py:1437: UndefinedMetricWarning: Precision is ill-defined and being set to 0.0 due to no predicted samples.\n",
      "  'precision', 'predicted', average, warn_for)\n",
      "/opt/anaconda3/envs/metis/lib/python3.7/site-packages/sklearn/metrics/classification.py:1437: UndefinedMetricWarning: F-score is ill-defined and being set to 0.0 due to no predicted samples.\n",
      "  'precision', 'predicted', average, warn_for)\n",
      "/opt/anaconda3/envs/metis/lib/python3.7/site-packages/sklearn/metrics/classification.py:1437: UndefinedMetricWarning: Precision is ill-defined and being set to 0.0 due to no predicted samples.\n",
      "  'precision', 'predicted', average, warn_for)\n",
      "/opt/anaconda3/envs/metis/lib/python3.7/site-packages/sklearn/metrics/classification.py:1437: UndefinedMetricWarning: F-score is ill-defined and being set to 0.0 due to no predicted samples.\n",
      "  'precision', 'predicted', average, warn_for)\n",
      "/opt/anaconda3/envs/metis/lib/python3.7/site-packages/sklearn/metrics/classification.py:1437: UndefinedMetricWarning: Precision is ill-defined and being set to 0.0 due to no predicted samples.\n",
      "  'precision', 'predicted', average, warn_for)\n",
      "/opt/anaconda3/envs/metis/lib/python3.7/site-packages/sklearn/metrics/classification.py:1437: UndefinedMetricWarning: F-score is ill-defined and being set to 0.0 due to no predicted samples.\n",
      "  'precision', 'predicted', average, warn_for)\n",
      "/opt/anaconda3/envs/metis/lib/python3.7/site-packages/sklearn/metrics/classification.py:1437: UndefinedMetricWarning: Precision is ill-defined and being set to 0.0 due to no predicted samples.\n",
      "  'precision', 'predicted', average, warn_for)\n"
     ]
    }
   ],
   "source": [
    "#Dummy classifier\n",
    "dc=DummyClassifier(strategy='most_frequent')\n",
    "print('Dummy Classifier')\n",
    "class_model(dc,X_trainval,y_trainval);"
   ]
  },
  {
   "cell_type": "markdown",
   "metadata": {},
   "source": [
    "# Random Forest"
   ]
  },
  {
   "cell_type": "code",
   "execution_count": 7,
   "metadata": {},
   "outputs": [
    {
     "name": "stdout",
     "output_type": "stream",
     "text": [
      "RF best parameter {'max_depth': 10, 'n_estimators': 50} and F1 score 0.6557900517084372\n"
     ]
    }
   ],
   "source": [
    "parameters={'n_estimators':[50,100,200,400],'max_depth':[3,5,8,10]}\n",
    "rf=RandomForestClassifier()\n",
    "clf=GridSearchCV(rf,parameters,cv=5,scoring='f1')\n",
    "clf.fit(X_trainval,y_trainval)\n",
    "print(\"RF best parameter\",clf.best_params_,\"and F1 score\",clf.best_score_)"
   ]
  },
  {
   "cell_type": "code",
   "execution_count": 8,
   "metadata": {},
   "outputs": [
    {
     "name": "stdout",
     "output_type": "stream",
     "text": [
      "Random Forest\n",
      "accuracy_scores_train 0.87375\n",
      "f1_scores_train 0.868202703851361\n",
      "roc_auc_scores_train 0.9505200343585818\n",
      "recall_scores_train 0.8691272625271906\n",
      "precision_scores_train 0.8678339911982593\n",
      "accuracy_scores_val 0.6566666666666666\n",
      "f1_scores_val 0.6333356300198876\n",
      "roc_auc_scores_val 0.7182930133121096\n",
      "recall_scores_val 0.6223030155102187\n",
      "precision_scores_val 0.6475382948010088\n"
     ]
    }
   ],
   "source": [
    "rf = RandomForestClassifier(random_state=4,n_estimators=400,max_depth=6,min_samples_split=5)\n",
    "print('Random Forest')\n",
    "class_model(rf,X_trainval,y_trainval);"
   ]
  },
  {
   "cell_type": "code",
   "execution_count": 9,
   "metadata": {},
   "outputs": [
    {
     "data": {
      "text/plain": [
       "[('genre_score', 0.12784560438045942),\n",
       " ('peak_pos_chart_div', 0.07722840410209851),\n",
       " ('peak_position', 0.0755109977198675),\n",
       " ('duration_ms', 0.04709682740270452),\n",
       " ('lyrical_distance', 0.046391861201256705),\n",
       " ('pop', 0.04367600357842871),\n",
       " ('valence', 0.04205696462587699),\n",
       " ('lyric_variety', 0.039968290622014624),\n",
       " ('tempo', 0.03882502360729568),\n",
       " ('acousticness', 0.03711403790410345),\n",
       " ('sentiment', 0.03697167836385008),\n",
       " ('loudness', 0.03663586531612808),\n",
       " ('Weeks on Chart', 0.03567661601040404),\n",
       " ('danceability', 0.032583698778438405),\n",
       " ('lyric_difficulty', 0.03211931903422629),\n",
       " ('liveness', 0.031653810573931684),\n",
       " ('feature_distance', 0.03118251211111678),\n",
       " ('speechiness', 0.03094349681470286),\n",
       " ('dance', 0.02983892560461502),\n",
       " ('instrumentalness', 0.02161465757737796),\n",
       " ('hip hop', 0.01607592197554229),\n",
       " ('num_entities', 0.01564139435884525),\n",
       " ('decade_10s', 0.012947501127819566),\n",
       " ('rock', 0.012767708488413264),\n",
       " ('r&b', 0.01117934350283736),\n",
       " ('country', 0.01034216742787968),\n",
       " ('decade_80s', 0.007781930734372368),\n",
       " ('decade_90s', 0.004919143250822919),\n",
       " ('Featured_Performer', 0.0047958512865298765),\n",
       " ('hit_producers', 0.003031990286831612),\n",
       " ('hit_writers', 0.002374876168705183),\n",
       " ('mode_1', 0.002238964398094688),\n",
       " ('foreign_language', 0.0009686116644086698)]"
      ]
     },
     "execution_count": 9,
     "metadata": {},
     "output_type": "execute_result"
    }
   ],
   "source": [
    "top_features=sorted(list(zip(X_trainval.columns,rf.feature_importances_)),key=lambda x:np.abs(x[1]),reverse=True)\n",
    "top_features"
   ]
  },
  {
   "cell_type": "markdown",
   "metadata": {},
   "source": [
    "# Logistic Regression"
   ]
  },
  {
   "cell_type": "code",
   "execution_count": 10,
   "metadata": {},
   "outputs": [
    {
     "name": "stderr",
     "output_type": "stream",
     "text": [
      "/opt/anaconda3/envs/metis/lib/python3.7/site-packages/sklearn/metrics/classification.py:1437: UndefinedMetricWarning: F-score is ill-defined and being set to 0.0 due to no predicted samples.\n",
      "  'precision', 'predicted', average, warn_for)\n",
      "/opt/anaconda3/envs/metis/lib/python3.7/site-packages/sklearn/metrics/classification.py:1437: UndefinedMetricWarning: F-score is ill-defined and being set to 0.0 due to no predicted samples.\n",
      "  'precision', 'predicted', average, warn_for)\n",
      "/opt/anaconda3/envs/metis/lib/python3.7/site-packages/sklearn/metrics/classification.py:1437: UndefinedMetricWarning: F-score is ill-defined and being set to 0.0 due to no predicted samples.\n",
      "  'precision', 'predicted', average, warn_for)\n",
      "/opt/anaconda3/envs/metis/lib/python3.7/site-packages/sklearn/metrics/classification.py:1437: UndefinedMetricWarning: F-score is ill-defined and being set to 0.0 due to no predicted samples.\n",
      "  'precision', 'predicted', average, warn_for)\n",
      "/opt/anaconda3/envs/metis/lib/python3.7/site-packages/sklearn/metrics/classification.py:1437: UndefinedMetricWarning: F-score is ill-defined and being set to 0.0 due to no predicted samples.\n",
      "  'precision', 'predicted', average, warn_for)\n",
      "/opt/anaconda3/envs/metis/lib/python3.7/site-packages/sklearn/metrics/classification.py:1437: UndefinedMetricWarning: F-score is ill-defined and being set to 0.0 due to no predicted samples.\n",
      "  'precision', 'predicted', average, warn_for)\n",
      "/opt/anaconda3/envs/metis/lib/python3.7/site-packages/sklearn/metrics/classification.py:1437: UndefinedMetricWarning: F-score is ill-defined and being set to 0.0 due to no predicted samples.\n",
      "  'precision', 'predicted', average, warn_for)\n",
      "/opt/anaconda3/envs/metis/lib/python3.7/site-packages/sklearn/metrics/classification.py:1437: UndefinedMetricWarning: F-score is ill-defined and being set to 0.0 due to no predicted samples.\n",
      "  'precision', 'predicted', average, warn_for)\n",
      "/opt/anaconda3/envs/metis/lib/python3.7/site-packages/sklearn/metrics/classification.py:1437: UndefinedMetricWarning: F-score is ill-defined and being set to 0.0 due to no predicted samples.\n",
      "  'precision', 'predicted', average, warn_for)\n",
      "/opt/anaconda3/envs/metis/lib/python3.7/site-packages/sklearn/metrics/classification.py:1437: UndefinedMetricWarning: F-score is ill-defined and being set to 0.0 due to no predicted samples.\n",
      "  'precision', 'predicted', average, warn_for)\n",
      "/opt/anaconda3/envs/metis/lib/python3.7/site-packages/sklearn/metrics/classification.py:1437: UndefinedMetricWarning: F-score is ill-defined and being set to 0.0 due to no predicted samples.\n",
      "  'precision', 'predicted', average, warn_for)\n",
      "/opt/anaconda3/envs/metis/lib/python3.7/site-packages/sklearn/metrics/classification.py:1437: UndefinedMetricWarning: F-score is ill-defined and being set to 0.0 due to no predicted samples.\n",
      "  'precision', 'predicted', average, warn_for)\n",
      "/opt/anaconda3/envs/metis/lib/python3.7/site-packages/sklearn/metrics/classification.py:1437: UndefinedMetricWarning: F-score is ill-defined and being set to 0.0 due to no predicted samples.\n",
      "  'precision', 'predicted', average, warn_for)\n",
      "/opt/anaconda3/envs/metis/lib/python3.7/site-packages/sklearn/metrics/classification.py:1437: UndefinedMetricWarning: F-score is ill-defined and being set to 0.0 due to no predicted samples.\n",
      "  'precision', 'predicted', average, warn_for)\n",
      "/opt/anaconda3/envs/metis/lib/python3.7/site-packages/sklearn/metrics/classification.py:1437: UndefinedMetricWarning: F-score is ill-defined and being set to 0.0 due to no predicted samples.\n",
      "  'precision', 'predicted', average, warn_for)\n",
      "/opt/anaconda3/envs/metis/lib/python3.7/site-packages/sklearn/metrics/classification.py:1437: UndefinedMetricWarning: F-score is ill-defined and being set to 0.0 due to no predicted samples.\n",
      "  'precision', 'predicted', average, warn_for)\n",
      "/opt/anaconda3/envs/metis/lib/python3.7/site-packages/sklearn/metrics/classification.py:1437: UndefinedMetricWarning: F-score is ill-defined and being set to 0.0 due to no predicted samples.\n",
      "  'precision', 'predicted', average, warn_for)\n",
      "/opt/anaconda3/envs/metis/lib/python3.7/site-packages/sklearn/metrics/classification.py:1437: UndefinedMetricWarning: F-score is ill-defined and being set to 0.0 due to no predicted samples.\n",
      "  'precision', 'predicted', average, warn_for)\n",
      "/opt/anaconda3/envs/metis/lib/python3.7/site-packages/sklearn/metrics/classification.py:1437: UndefinedMetricWarning: F-score is ill-defined and being set to 0.0 due to no predicted samples.\n",
      "  'precision', 'predicted', average, warn_for)\n",
      "/opt/anaconda3/envs/metis/lib/python3.7/site-packages/sklearn/metrics/classification.py:1437: UndefinedMetricWarning: F-score is ill-defined and being set to 0.0 due to no predicted samples.\n",
      "  'precision', 'predicted', average, warn_for)\n",
      "/opt/anaconda3/envs/metis/lib/python3.7/site-packages/sklearn/metrics/classification.py:1437: UndefinedMetricWarning: F-score is ill-defined and being set to 0.0 due to no predicted samples.\n",
      "  'precision', 'predicted', average, warn_for)\n",
      "/opt/anaconda3/envs/metis/lib/python3.7/site-packages/sklearn/metrics/classification.py:1437: UndefinedMetricWarning: F-score is ill-defined and being set to 0.0 due to no predicted samples.\n",
      "  'precision', 'predicted', average, warn_for)\n",
      "/opt/anaconda3/envs/metis/lib/python3.7/site-packages/sklearn/metrics/classification.py:1437: UndefinedMetricWarning: F-score is ill-defined and being set to 0.0 due to no predicted samples.\n",
      "  'precision', 'predicted', average, warn_for)\n",
      "/opt/anaconda3/envs/metis/lib/python3.7/site-packages/sklearn/metrics/classification.py:1437: UndefinedMetricWarning: F-score is ill-defined and being set to 0.0 due to no predicted samples.\n",
      "  'precision', 'predicted', average, warn_for)\n",
      "/opt/anaconda3/envs/metis/lib/python3.7/site-packages/sklearn/metrics/classification.py:1437: UndefinedMetricWarning: F-score is ill-defined and being set to 0.0 due to no predicted samples.\n",
      "  'precision', 'predicted', average, warn_for)\n",
      "/opt/anaconda3/envs/metis/lib/python3.7/site-packages/sklearn/metrics/classification.py:1437: UndefinedMetricWarning: F-score is ill-defined and being set to 0.0 due to no predicted samples.\n",
      "  'precision', 'predicted', average, warn_for)\n",
      "/opt/anaconda3/envs/metis/lib/python3.7/site-packages/sklearn/metrics/classification.py:1437: UndefinedMetricWarning: F-score is ill-defined and being set to 0.0 due to no predicted samples.\n",
      "  'precision', 'predicted', average, warn_for)\n",
      "/opt/anaconda3/envs/metis/lib/python3.7/site-packages/sklearn/metrics/classification.py:1437: UndefinedMetricWarning: F-score is ill-defined and being set to 0.0 due to no predicted samples.\n",
      "  'precision', 'predicted', average, warn_for)\n",
      "/opt/anaconda3/envs/metis/lib/python3.7/site-packages/sklearn/metrics/classification.py:1437: UndefinedMetricWarning: F-score is ill-defined and being set to 0.0 due to no predicted samples.\n",
      "  'precision', 'predicted', average, warn_for)\n",
      "/opt/anaconda3/envs/metis/lib/python3.7/site-packages/sklearn/metrics/classification.py:1437: UndefinedMetricWarning: F-score is ill-defined and being set to 0.0 due to no predicted samples.\n",
      "  'precision', 'predicted', average, warn_for)\n",
      "/opt/anaconda3/envs/metis/lib/python3.7/site-packages/sklearn/metrics/classification.py:1437: UndefinedMetricWarning: F-score is ill-defined and being set to 0.0 due to no predicted samples.\n",
      "  'precision', 'predicted', average, warn_for)\n",
      "/opt/anaconda3/envs/metis/lib/python3.7/site-packages/sklearn/metrics/classification.py:1437: UndefinedMetricWarning: F-score is ill-defined and being set to 0.0 due to no predicted samples.\n",
      "  'precision', 'predicted', average, warn_for)\n",
      "/opt/anaconda3/envs/metis/lib/python3.7/site-packages/sklearn/metrics/classification.py:1437: UndefinedMetricWarning: F-score is ill-defined and being set to 0.0 due to no predicted samples.\n",
      "  'precision', 'predicted', average, warn_for)\n",
      "/opt/anaconda3/envs/metis/lib/python3.7/site-packages/sklearn/metrics/classification.py:1437: UndefinedMetricWarning: F-score is ill-defined and being set to 0.0 due to no predicted samples.\n",
      "  'precision', 'predicted', average, warn_for)\n",
      "/opt/anaconda3/envs/metis/lib/python3.7/site-packages/sklearn/metrics/classification.py:1437: UndefinedMetricWarning: F-score is ill-defined and being set to 0.0 due to no predicted samples.\n",
      "  'precision', 'predicted', average, warn_for)\n",
      "/opt/anaconda3/envs/metis/lib/python3.7/site-packages/sklearn/metrics/classification.py:1437: UndefinedMetricWarning: F-score is ill-defined and being set to 0.0 due to no predicted samples.\n",
      "  'precision', 'predicted', average, warn_for)\n",
      "/opt/anaconda3/envs/metis/lib/python3.7/site-packages/sklearn/metrics/classification.py:1437: UndefinedMetricWarning: F-score is ill-defined and being set to 0.0 due to no predicted samples.\n",
      "  'precision', 'predicted', average, warn_for)\n",
      "/opt/anaconda3/envs/metis/lib/python3.7/site-packages/sklearn/metrics/classification.py:1437: UndefinedMetricWarning: F-score is ill-defined and being set to 0.0 due to no predicted samples.\n",
      "  'precision', 'predicted', average, warn_for)\n",
      "/opt/anaconda3/envs/metis/lib/python3.7/site-packages/sklearn/metrics/classification.py:1437: UndefinedMetricWarning: F-score is ill-defined and being set to 0.0 due to no predicted samples.\n",
      "  'precision', 'predicted', average, warn_for)\n",
      "/opt/anaconda3/envs/metis/lib/python3.7/site-packages/sklearn/metrics/classification.py:1437: UndefinedMetricWarning: F-score is ill-defined and being set to 0.0 due to no predicted samples.\n",
      "  'precision', 'predicted', average, warn_for)\n",
      "/opt/anaconda3/envs/metis/lib/python3.7/site-packages/sklearn/metrics/classification.py:1437: UndefinedMetricWarning: F-score is ill-defined and being set to 0.0 due to no predicted samples.\n",
      "  'precision', 'predicted', average, warn_for)\n",
      "/opt/anaconda3/envs/metis/lib/python3.7/site-packages/sklearn/metrics/classification.py:1437: UndefinedMetricWarning: F-score is ill-defined and being set to 0.0 due to no predicted samples.\n",
      "  'precision', 'predicted', average, warn_for)\n",
      "/opt/anaconda3/envs/metis/lib/python3.7/site-packages/sklearn/metrics/classification.py:1437: UndefinedMetricWarning: F-score is ill-defined and being set to 0.0 due to no predicted samples.\n",
      "  'precision', 'predicted', average, warn_for)\n",
      "/opt/anaconda3/envs/metis/lib/python3.7/site-packages/sklearn/metrics/classification.py:1437: UndefinedMetricWarning: F-score is ill-defined and being set to 0.0 due to no predicted samples.\n",
      "  'precision', 'predicted', average, warn_for)\n",
      "/opt/anaconda3/envs/metis/lib/python3.7/site-packages/sklearn/metrics/classification.py:1437: UndefinedMetricWarning: F-score is ill-defined and being set to 0.0 due to no predicted samples.\n",
      "  'precision', 'predicted', average, warn_for)\n",
      "/opt/anaconda3/envs/metis/lib/python3.7/site-packages/sklearn/metrics/classification.py:1437: UndefinedMetricWarning: F-score is ill-defined and being set to 0.0 due to no predicted samples.\n",
      "  'precision', 'predicted', average, warn_for)\n",
      "/opt/anaconda3/envs/metis/lib/python3.7/site-packages/sklearn/metrics/classification.py:1437: UndefinedMetricWarning: F-score is ill-defined and being set to 0.0 due to no predicted samples.\n",
      "  'precision', 'predicted', average, warn_for)\n",
      "/opt/anaconda3/envs/metis/lib/python3.7/site-packages/sklearn/metrics/classification.py:1437: UndefinedMetricWarning: F-score is ill-defined and being set to 0.0 due to no predicted samples.\n",
      "  'precision', 'predicted', average, warn_for)\n",
      "/opt/anaconda3/envs/metis/lib/python3.7/site-packages/sklearn/metrics/classification.py:1437: UndefinedMetricWarning: F-score is ill-defined and being set to 0.0 due to no predicted samples.\n",
      "  'precision', 'predicted', average, warn_for)\n",
      "/opt/anaconda3/envs/metis/lib/python3.7/site-packages/sklearn/metrics/classification.py:1437: UndefinedMetricWarning: F-score is ill-defined and being set to 0.0 due to no predicted samples.\n",
      "  'precision', 'predicted', average, warn_for)\n",
      "/opt/anaconda3/envs/metis/lib/python3.7/site-packages/sklearn/metrics/classification.py:1437: UndefinedMetricWarning: F-score is ill-defined and being set to 0.0 due to no predicted samples.\n",
      "  'precision', 'predicted', average, warn_for)\n",
      "/opt/anaconda3/envs/metis/lib/python3.7/site-packages/sklearn/metrics/classification.py:1437: UndefinedMetricWarning: F-score is ill-defined and being set to 0.0 due to no predicted samples.\n",
      "  'precision', 'predicted', average, warn_for)\n",
      "/opt/anaconda3/envs/metis/lib/python3.7/site-packages/sklearn/metrics/classification.py:1437: UndefinedMetricWarning: F-score is ill-defined and being set to 0.0 due to no predicted samples.\n",
      "  'precision', 'predicted', average, warn_for)\n",
      "/opt/anaconda3/envs/metis/lib/python3.7/site-packages/sklearn/metrics/classification.py:1437: UndefinedMetricWarning: F-score is ill-defined and being set to 0.0 due to no predicted samples.\n",
      "  'precision', 'predicted', average, warn_for)\n",
      "/opt/anaconda3/envs/metis/lib/python3.7/site-packages/sklearn/metrics/classification.py:1437: UndefinedMetricWarning: F-score is ill-defined and being set to 0.0 due to no predicted samples.\n",
      "  'precision', 'predicted', average, warn_for)\n",
      "/opt/anaconda3/envs/metis/lib/python3.7/site-packages/sklearn/metrics/classification.py:1437: UndefinedMetricWarning: F-score is ill-defined and being set to 0.0 due to no predicted samples.\n",
      "  'precision', 'predicted', average, warn_for)\n",
      "/opt/anaconda3/envs/metis/lib/python3.7/site-packages/sklearn/metrics/classification.py:1437: UndefinedMetricWarning: F-score is ill-defined and being set to 0.0 due to no predicted samples.\n",
      "  'precision', 'predicted', average, warn_for)\n"
     ]
    },
    {
     "name": "stderr",
     "output_type": "stream",
     "text": [
      "/opt/anaconda3/envs/metis/lib/python3.7/site-packages/sklearn/metrics/classification.py:1437: UndefinedMetricWarning: F-score is ill-defined and being set to 0.0 due to no predicted samples.\n",
      "  'precision', 'predicted', average, warn_for)\n",
      "/opt/anaconda3/envs/metis/lib/python3.7/site-packages/sklearn/metrics/classification.py:1437: UndefinedMetricWarning: F-score is ill-defined and being set to 0.0 due to no predicted samples.\n",
      "  'precision', 'predicted', average, warn_for)\n",
      "/opt/anaconda3/envs/metis/lib/python3.7/site-packages/sklearn/metrics/classification.py:1437: UndefinedMetricWarning: F-score is ill-defined and being set to 0.0 due to no predicted samples.\n",
      "  'precision', 'predicted', average, warn_for)\n",
      "/opt/anaconda3/envs/metis/lib/python3.7/site-packages/sklearn/metrics/classification.py:1437: UndefinedMetricWarning: F-score is ill-defined and being set to 0.0 due to no predicted samples.\n",
      "  'precision', 'predicted', average, warn_for)\n",
      "/opt/anaconda3/envs/metis/lib/python3.7/site-packages/sklearn/metrics/classification.py:1437: UndefinedMetricWarning: F-score is ill-defined and being set to 0.0 due to no predicted samples.\n",
      "  'precision', 'predicted', average, warn_for)\n",
      "/opt/anaconda3/envs/metis/lib/python3.7/site-packages/sklearn/metrics/classification.py:1437: UndefinedMetricWarning: F-score is ill-defined and being set to 0.0 due to no predicted samples.\n",
      "  'precision', 'predicted', average, warn_for)\n",
      "/opt/anaconda3/envs/metis/lib/python3.7/site-packages/sklearn/metrics/classification.py:1437: UndefinedMetricWarning: F-score is ill-defined and being set to 0.0 due to no predicted samples.\n",
      "  'precision', 'predicted', average, warn_for)\n",
      "/opt/anaconda3/envs/metis/lib/python3.7/site-packages/sklearn/metrics/classification.py:1437: UndefinedMetricWarning: F-score is ill-defined and being set to 0.0 due to no predicted samples.\n",
      "  'precision', 'predicted', average, warn_for)\n",
      "/opt/anaconda3/envs/metis/lib/python3.7/site-packages/sklearn/metrics/classification.py:1437: UndefinedMetricWarning: F-score is ill-defined and being set to 0.0 due to no predicted samples.\n",
      "  'precision', 'predicted', average, warn_for)\n",
      "/opt/anaconda3/envs/metis/lib/python3.7/site-packages/sklearn/metrics/classification.py:1437: UndefinedMetricWarning: F-score is ill-defined and being set to 0.0 due to no predicted samples.\n",
      "  'precision', 'predicted', average, warn_for)\n",
      "/opt/anaconda3/envs/metis/lib/python3.7/site-packages/sklearn/metrics/classification.py:1437: UndefinedMetricWarning: F-score is ill-defined and being set to 0.0 due to no predicted samples.\n",
      "  'precision', 'predicted', average, warn_for)\n",
      "/opt/anaconda3/envs/metis/lib/python3.7/site-packages/sklearn/metrics/classification.py:1437: UndefinedMetricWarning: F-score is ill-defined and being set to 0.0 due to no predicted samples.\n",
      "  'precision', 'predicted', average, warn_for)\n",
      "/opt/anaconda3/envs/metis/lib/python3.7/site-packages/sklearn/metrics/classification.py:1437: UndefinedMetricWarning: F-score is ill-defined and being set to 0.0 due to no predicted samples.\n",
      "  'precision', 'predicted', average, warn_for)\n",
      "/opt/anaconda3/envs/metis/lib/python3.7/site-packages/sklearn/metrics/classification.py:1437: UndefinedMetricWarning: F-score is ill-defined and being set to 0.0 due to no predicted samples.\n",
      "  'precision', 'predicted', average, warn_for)\n",
      "/opt/anaconda3/envs/metis/lib/python3.7/site-packages/sklearn/metrics/classification.py:1437: UndefinedMetricWarning: F-score is ill-defined and being set to 0.0 due to no predicted samples.\n",
      "  'precision', 'predicted', average, warn_for)\n",
      "/opt/anaconda3/envs/metis/lib/python3.7/site-packages/sklearn/metrics/classification.py:1437: UndefinedMetricWarning: F-score is ill-defined and being set to 0.0 due to no predicted samples.\n",
      "  'precision', 'predicted', average, warn_for)\n",
      "/opt/anaconda3/envs/metis/lib/python3.7/site-packages/sklearn/metrics/classification.py:1437: UndefinedMetricWarning: F-score is ill-defined and being set to 0.0 due to no predicted samples.\n",
      "  'precision', 'predicted', average, warn_for)\n",
      "/opt/anaconda3/envs/metis/lib/python3.7/site-packages/sklearn/metrics/classification.py:1437: UndefinedMetricWarning: F-score is ill-defined and being set to 0.0 due to no predicted samples.\n",
      "  'precision', 'predicted', average, warn_for)\n",
      "/opt/anaconda3/envs/metis/lib/python3.7/site-packages/sklearn/metrics/classification.py:1437: UndefinedMetricWarning: F-score is ill-defined and being set to 0.0 due to no predicted samples.\n",
      "  'precision', 'predicted', average, warn_for)\n",
      "/opt/anaconda3/envs/metis/lib/python3.7/site-packages/sklearn/metrics/classification.py:1437: UndefinedMetricWarning: F-score is ill-defined and being set to 0.0 due to no predicted samples.\n",
      "  'precision', 'predicted', average, warn_for)\n",
      "/opt/anaconda3/envs/metis/lib/python3.7/site-packages/sklearn/metrics/classification.py:1437: UndefinedMetricWarning: F-score is ill-defined and being set to 0.0 due to no predicted samples.\n",
      "  'precision', 'predicted', average, warn_for)\n",
      "/opt/anaconda3/envs/metis/lib/python3.7/site-packages/sklearn/metrics/classification.py:1437: UndefinedMetricWarning: F-score is ill-defined and being set to 0.0 due to no predicted samples.\n",
      "  'precision', 'predicted', average, warn_for)\n",
      "/opt/anaconda3/envs/metis/lib/python3.7/site-packages/sklearn/metrics/classification.py:1437: UndefinedMetricWarning: F-score is ill-defined and being set to 0.0 due to no predicted samples.\n",
      "  'precision', 'predicted', average, warn_for)\n",
      "/opt/anaconda3/envs/metis/lib/python3.7/site-packages/sklearn/metrics/classification.py:1437: UndefinedMetricWarning: F-score is ill-defined and being set to 0.0 due to no predicted samples.\n",
      "  'precision', 'predicted', average, warn_for)\n",
      "/opt/anaconda3/envs/metis/lib/python3.7/site-packages/sklearn/metrics/classification.py:1437: UndefinedMetricWarning: F-score is ill-defined and being set to 0.0 due to no predicted samples.\n",
      "  'precision', 'predicted', average, warn_for)\n",
      "/opt/anaconda3/envs/metis/lib/python3.7/site-packages/sklearn/metrics/classification.py:1437: UndefinedMetricWarning: F-score is ill-defined and being set to 0.0 due to no predicted samples.\n",
      "  'precision', 'predicted', average, warn_for)\n",
      "/opt/anaconda3/envs/metis/lib/python3.7/site-packages/sklearn/metrics/classification.py:1437: UndefinedMetricWarning: F-score is ill-defined and being set to 0.0 due to no predicted samples.\n",
      "  'precision', 'predicted', average, warn_for)\n",
      "/opt/anaconda3/envs/metis/lib/python3.7/site-packages/sklearn/metrics/classification.py:1437: UndefinedMetricWarning: F-score is ill-defined and being set to 0.0 due to no predicted samples.\n",
      "  'precision', 'predicted', average, warn_for)\n",
      "/opt/anaconda3/envs/metis/lib/python3.7/site-packages/sklearn/metrics/classification.py:1437: UndefinedMetricWarning: F-score is ill-defined and being set to 0.0 due to no predicted samples.\n",
      "  'precision', 'predicted', average, warn_for)\n",
      "/opt/anaconda3/envs/metis/lib/python3.7/site-packages/sklearn/metrics/classification.py:1437: UndefinedMetricWarning: F-score is ill-defined and being set to 0.0 due to no predicted samples.\n",
      "  'precision', 'predicted', average, warn_for)\n",
      "/opt/anaconda3/envs/metis/lib/python3.7/site-packages/sklearn/metrics/classification.py:1437: UndefinedMetricWarning: F-score is ill-defined and being set to 0.0 due to no predicted samples.\n",
      "  'precision', 'predicted', average, warn_for)\n",
      "/opt/anaconda3/envs/metis/lib/python3.7/site-packages/sklearn/metrics/classification.py:1437: UndefinedMetricWarning: F-score is ill-defined and being set to 0.0 due to no predicted samples.\n",
      "  'precision', 'predicted', average, warn_for)\n",
      "/opt/anaconda3/envs/metis/lib/python3.7/site-packages/sklearn/metrics/classification.py:1437: UndefinedMetricWarning: F-score is ill-defined and being set to 0.0 due to no predicted samples.\n",
      "  'precision', 'predicted', average, warn_for)\n",
      "/opt/anaconda3/envs/metis/lib/python3.7/site-packages/sklearn/metrics/classification.py:1437: UndefinedMetricWarning: F-score is ill-defined and being set to 0.0 due to no predicted samples.\n",
      "  'precision', 'predicted', average, warn_for)\n",
      "/opt/anaconda3/envs/metis/lib/python3.7/site-packages/sklearn/metrics/classification.py:1437: UndefinedMetricWarning: F-score is ill-defined and being set to 0.0 due to no predicted samples.\n",
      "  'precision', 'predicted', average, warn_for)\n",
      "/opt/anaconda3/envs/metis/lib/python3.7/site-packages/sklearn/metrics/classification.py:1437: UndefinedMetricWarning: F-score is ill-defined and being set to 0.0 due to no predicted samples.\n",
      "  'precision', 'predicted', average, warn_for)\n",
      "/opt/anaconda3/envs/metis/lib/python3.7/site-packages/sklearn/metrics/classification.py:1437: UndefinedMetricWarning: F-score is ill-defined and being set to 0.0 due to no predicted samples.\n",
      "  'precision', 'predicted', average, warn_for)\n",
      "/opt/anaconda3/envs/metis/lib/python3.7/site-packages/sklearn/metrics/classification.py:1437: UndefinedMetricWarning: F-score is ill-defined and being set to 0.0 due to no predicted samples.\n",
      "  'precision', 'predicted', average, warn_for)\n",
      "/opt/anaconda3/envs/metis/lib/python3.7/site-packages/sklearn/metrics/classification.py:1437: UndefinedMetricWarning: F-score is ill-defined and being set to 0.0 due to no predicted samples.\n",
      "  'precision', 'predicted', average, warn_for)\n",
      "/opt/anaconda3/envs/metis/lib/python3.7/site-packages/sklearn/metrics/classification.py:1437: UndefinedMetricWarning: F-score is ill-defined and being set to 0.0 due to no predicted samples.\n",
      "  'precision', 'predicted', average, warn_for)\n",
      "/opt/anaconda3/envs/metis/lib/python3.7/site-packages/sklearn/metrics/classification.py:1437: UndefinedMetricWarning: F-score is ill-defined and being set to 0.0 due to no predicted samples.\n",
      "  'precision', 'predicted', average, warn_for)\n",
      "/opt/anaconda3/envs/metis/lib/python3.7/site-packages/sklearn/metrics/classification.py:1437: UndefinedMetricWarning: F-score is ill-defined and being set to 0.0 due to no predicted samples.\n",
      "  'precision', 'predicted', average, warn_for)\n",
      "/opt/anaconda3/envs/metis/lib/python3.7/site-packages/sklearn/metrics/classification.py:1437: UndefinedMetricWarning: F-score is ill-defined and being set to 0.0 due to no predicted samples.\n",
      "  'precision', 'predicted', average, warn_for)\n",
      "/opt/anaconda3/envs/metis/lib/python3.7/site-packages/sklearn/metrics/classification.py:1437: UndefinedMetricWarning: F-score is ill-defined and being set to 0.0 due to no predicted samples.\n",
      "  'precision', 'predicted', average, warn_for)\n",
      "/opt/anaconda3/envs/metis/lib/python3.7/site-packages/sklearn/metrics/classification.py:1437: UndefinedMetricWarning: F-score is ill-defined and being set to 0.0 due to no predicted samples.\n",
      "  'precision', 'predicted', average, warn_for)\n",
      "/opt/anaconda3/envs/metis/lib/python3.7/site-packages/sklearn/metrics/classification.py:1437: UndefinedMetricWarning: F-score is ill-defined and being set to 0.0 due to no predicted samples.\n",
      "  'precision', 'predicted', average, warn_for)\n",
      "/opt/anaconda3/envs/metis/lib/python3.7/site-packages/sklearn/metrics/classification.py:1437: UndefinedMetricWarning: F-score is ill-defined and being set to 0.0 due to no predicted samples.\n",
      "  'precision', 'predicted', average, warn_for)\n",
      "/opt/anaconda3/envs/metis/lib/python3.7/site-packages/sklearn/metrics/classification.py:1437: UndefinedMetricWarning: F-score is ill-defined and being set to 0.0 due to no predicted samples.\n",
      "  'precision', 'predicted', average, warn_for)\n",
      "/opt/anaconda3/envs/metis/lib/python3.7/site-packages/sklearn/metrics/classification.py:1437: UndefinedMetricWarning: F-score is ill-defined and being set to 0.0 due to no predicted samples.\n",
      "  'precision', 'predicted', average, warn_for)\n",
      "/opt/anaconda3/envs/metis/lib/python3.7/site-packages/sklearn/metrics/classification.py:1437: UndefinedMetricWarning: F-score is ill-defined and being set to 0.0 due to no predicted samples.\n",
      "  'precision', 'predicted', average, warn_for)\n",
      "/opt/anaconda3/envs/metis/lib/python3.7/site-packages/sklearn/metrics/classification.py:1437: UndefinedMetricWarning: F-score is ill-defined and being set to 0.0 due to no predicted samples.\n",
      "  'precision', 'predicted', average, warn_for)\n",
      "/opt/anaconda3/envs/metis/lib/python3.7/site-packages/sklearn/metrics/classification.py:1437: UndefinedMetricWarning: F-score is ill-defined and being set to 0.0 due to no predicted samples.\n",
      "  'precision', 'predicted', average, warn_for)\n",
      "/opt/anaconda3/envs/metis/lib/python3.7/site-packages/sklearn/metrics/classification.py:1437: UndefinedMetricWarning: F-score is ill-defined and being set to 0.0 due to no predicted samples.\n",
      "  'precision', 'predicted', average, warn_for)\n",
      "/opt/anaconda3/envs/metis/lib/python3.7/site-packages/sklearn/metrics/classification.py:1437: UndefinedMetricWarning: F-score is ill-defined and being set to 0.0 due to no predicted samples.\n",
      "  'precision', 'predicted', average, warn_for)\n",
      "/opt/anaconda3/envs/metis/lib/python3.7/site-packages/sklearn/metrics/classification.py:1437: UndefinedMetricWarning: F-score is ill-defined and being set to 0.0 due to no predicted samples.\n",
      "  'precision', 'predicted', average, warn_for)\n",
      "/opt/anaconda3/envs/metis/lib/python3.7/site-packages/sklearn/metrics/classification.py:1437: UndefinedMetricWarning: F-score is ill-defined and being set to 0.0 due to no predicted samples.\n",
      "  'precision', 'predicted', average, warn_for)\n",
      "/opt/anaconda3/envs/metis/lib/python3.7/site-packages/sklearn/metrics/classification.py:1437: UndefinedMetricWarning: F-score is ill-defined and being set to 0.0 due to no predicted samples.\n",
      "  'precision', 'predicted', average, warn_for)\n",
      "/opt/anaconda3/envs/metis/lib/python3.7/site-packages/sklearn/metrics/classification.py:1437: UndefinedMetricWarning: F-score is ill-defined and being set to 0.0 due to no predicted samples.\n",
      "  'precision', 'predicted', average, warn_for)\n"
     ]
    },
    {
     "name": "stderr",
     "output_type": "stream",
     "text": [
      "/opt/anaconda3/envs/metis/lib/python3.7/site-packages/sklearn/metrics/classification.py:1437: UndefinedMetricWarning: F-score is ill-defined and being set to 0.0 due to no predicted samples.\n",
      "  'precision', 'predicted', average, warn_for)\n",
      "/opt/anaconda3/envs/metis/lib/python3.7/site-packages/sklearn/metrics/classification.py:1437: UndefinedMetricWarning: F-score is ill-defined and being set to 0.0 due to no predicted samples.\n",
      "  'precision', 'predicted', average, warn_for)\n",
      "/opt/anaconda3/envs/metis/lib/python3.7/site-packages/sklearn/metrics/classification.py:1437: UndefinedMetricWarning: F-score is ill-defined and being set to 0.0 due to no predicted samples.\n",
      "  'precision', 'predicted', average, warn_for)\n",
      "/opt/anaconda3/envs/metis/lib/python3.7/site-packages/sklearn/metrics/classification.py:1437: UndefinedMetricWarning: F-score is ill-defined and being set to 0.0 due to no predicted samples.\n",
      "  'precision', 'predicted', average, warn_for)\n",
      "/opt/anaconda3/envs/metis/lib/python3.7/site-packages/sklearn/metrics/classification.py:1437: UndefinedMetricWarning: F-score is ill-defined and being set to 0.0 due to no predicted samples.\n",
      "  'precision', 'predicted', average, warn_for)\n",
      "/opt/anaconda3/envs/metis/lib/python3.7/site-packages/sklearn/metrics/classification.py:1437: UndefinedMetricWarning: F-score is ill-defined and being set to 0.0 due to no predicted samples.\n",
      "  'precision', 'predicted', average, warn_for)\n"
     ]
    },
    {
     "name": "stdout",
     "output_type": "stream",
     "text": [
      "Logistic Regression best parameter {'C': 0.05963623316594643} and F1 score 0.6537428589609098\n"
     ]
    },
    {
     "name": "stderr",
     "output_type": "stream",
     "text": [
      "/opt/anaconda3/envs/metis/lib/python3.7/site-packages/sklearn/model_selection/_search.py:814: DeprecationWarning: The default of the `iid` parameter will change from True to False in version 0.22 and will be removed in 0.24. This will change numeric results when test-set sizes are unequal.\n",
      "  DeprecationWarning)\n"
     ]
    }
   ],
   "source": [
    "parameters={'C':10**(np.linspace(-4,0,50))}\n",
    "lr=LogisticRegression(solver='liblinear',penalty='l1')\n",
    "clf=GridSearchCV(lr,parameters,cv=5,scoring='f1')\n",
    "std=StandardScaler()\n",
    "X_trainval_scaled=std.fit_transform(X_trainval)\n",
    "clf.fit(X_trainval_scaled,y_trainval)\n",
    "print(\"Logistic Regression best parameter\",clf.best_params_,\"and F1 score\",clf.best_score_)"
   ]
  },
  {
   "cell_type": "code",
   "execution_count": 11,
   "metadata": {},
   "outputs": [
    {
     "name": "stdout",
     "output_type": "stream",
     "text": [
      "Logistic Regression Lasso\n",
      "threshold_val 0.4084561772164525\n",
      "f1_threshold_val 0.7107733039970664\n",
      "accuracy_scores_train 0.6785416666666666\n",
      "f1_scores_train 0.6730057940467734\n",
      "roc_auc_scores_train 0.7473638734963691\n",
      "recall_scores_train 0.692212102732918\n",
      "precision_scores_train 0.6549712911041404\n",
      "accuracy_scores_val 0.6575\n",
      "f1_scores_val 0.6524585768372969\n",
      "roc_auc_scores_val 0.7271619104039584\n",
      "recall_scores_val 0.6749421406818261\n",
      "precision_scores_val 0.6337778041167872\n"
     ]
    },
    {
     "name": "stderr",
     "output_type": "stream",
     "text": [
      "/Users/elarson649/Desktop/Metis/Project-5/class_model.py:120: RuntimeWarning: invalid value encountered in true_divide\n",
      "  fbeta_curve = (2 * precision_curve[1:] * recall_curve[1:]) / (precision_curve[1:] + recall_curve[1:])\n"
     ]
    }
   ],
   "source": [
    "lr_l1=LogisticRegression(solver='liblinear',C=.07,penalty='l1')\n",
    "print('Logistic Regression Lasso')\n",
    "lr_l1=class_model(lr_l1,X_trainval,y_trainval,scaling=1,threshold=1);"
   ]
  },
  {
   "cell_type": "code",
   "execution_count": 12,
   "metadata": {},
   "outputs": [
    {
     "data": {
      "text/plain": [
       "[('genre_score', -0.2751902737636191),\n",
       " ('hip hop', -0.2634923181461743),\n",
       " ('country', -0.2157386138402596),\n",
       " ('decade_10s', 0.20246885750215862),\n",
       " ('dance', -0.18845632893412892),\n",
       " ('peak_pos_chart_div', -0.18413898017175254),\n",
       " ('peak_position', 0.17970978673698781),\n",
       " ('pop', -0.17289409257007268),\n",
       " ('rock', -0.13631981739688315),\n",
       " ('Featured_Performer', 0.12164044141463862),\n",
       " ('decade_80s', -0.09412014044019701),\n",
       " ('lyrical_distance', -0.09369775803116012),\n",
       " ('decade_90s', -0.05641730339818399),\n",
       " ('foreign_language', -0.04243368879850624),\n",
       " ('r&b', -0.02197581431237162),\n",
       " ('lyric_difficulty', -0.021420956801619873),\n",
       " ('danceability', 0.001182003323918933),\n",
       " ('tempo', -0.0006057240218944203),\n",
       " ('liveness', -2.7164986507983433e-05),\n",
       " ('Weeks on Chart', 0.0),\n",
       " ('loudness', 0.0),\n",
       " ('speechiness', 0.0),\n",
       " ('acousticness', 0.0),\n",
       " ('instrumentalness', 0.0),\n",
       " ('valence', 0.0),\n",
       " ('duration_ms', 0.0),\n",
       " ('hit_writers', 0.0),\n",
       " ('hit_producers', 0.0),\n",
       " ('mode_1', 0.0),\n",
       " ('lyric_variety', 0.0),\n",
       " ('num_entities', 0.0),\n",
       " ('sentiment', 0.0),\n",
       " ('feature_distance', 0.0)]"
      ]
     },
     "execution_count": 12,
     "metadata": {},
     "output_type": "execute_result"
    }
   ],
   "source": [
    "sorted(list(zip(X_trainval.columns,lr_l1.coef_[0])),key=lambda x:np.abs(x[1]),reverse=True)"
   ]
  },
  {
   "cell_type": "code",
   "execution_count": 13,
   "metadata": {},
   "outputs": [
    {
     "name": "stdout",
     "output_type": "stream",
     "text": [
      "Logistic Regression best parameter {'C': 0.0024420530945486497} and F1 score 0.6549299380624567\n"
     ]
    }
   ],
   "source": [
    "parameters={'C':10**(np.linspace(-4,0,50))}\n",
    "lr=LogisticRegression(solver='liblinear')\n",
    "clf=GridSearchCV(lr,parameters,cv=5,scoring='f1')\n",
    "std=StandardScaler()\n",
    "X_trainval_scaled=std.fit_transform(X_trainval)\n",
    "clf.fit(X_trainval_scaled,y_trainval)\n",
    "print(\"Logistic Regression best parameter\",clf.best_params_,\"and F1 score\",clf.best_score_)"
   ]
  },
  {
   "cell_type": "code",
   "execution_count": 14,
   "metadata": {},
   "outputs": [
    {
     "name": "stdout",
     "output_type": "stream",
     "text": [
      "Logistic Regression Ridge\n",
      "threshold_val 0.35604094603859215\n",
      "f1_threshold_val 0.707881602085429\n",
      "accuracy_scores_train 0.6852083333333334\n",
      "f1_scores_train 0.6730794291226587\n",
      "roc_auc_scores_train 0.7560725632115982\n",
      "recall_scores_train 0.677896979625496\n",
      "precision_scores_train 0.6685843092109778\n",
      "accuracy_scores_val 0.665\n",
      "f1_scores_val 0.6530030117029846\n",
      "roc_auc_scores_val 0.7299710583950573\n",
      "recall_scores_val 0.6620113128205218\n",
      "precision_scores_val 0.6453526564396543\n"
     ]
    },
    {
     "name": "stderr",
     "output_type": "stream",
     "text": [
      "/Users/elarson649/Desktop/Metis/Project-5/class_model.py:120: RuntimeWarning: invalid value encountered in true_divide\n",
      "  fbeta_curve = (2 * precision_curve[1:] * recall_curve[1:]) / (precision_curve[1:] + recall_curve[1:])\n"
     ]
    }
   ],
   "source": [
    "lr_l2=LogisticRegression(solver='liblinear',C=.02)\n",
    "print('Logistic Regression Ridge')\n",
    "class_model(lr_l2,X_trainval,y_trainval,scaling=1,threshold=1);"
   ]
  },
  {
   "cell_type": "code",
   "execution_count": 15,
   "metadata": {},
   "outputs": [
    {
     "data": {
      "text/plain": [
       "[('hip hop', -0.31051812578418125),\n",
       " ('genre_score', -0.2744888282212206),\n",
       " ('country', -0.24569236801089553),\n",
       " ('peak_pos_chart_div', -0.22263560415485315),\n",
       " ('pop', -0.2192316079515337),\n",
       " ('dance', -0.21250326627979768),\n",
       " ('peak_position', 0.19375872709026185),\n",
       " ('decade_10s', 0.1731458178796985),\n",
       " ('rock', -0.16046261778793217),\n",
       " ('Featured_Performer', 0.1438621408493276),\n",
       " ('decade_80s', -0.1408228472479197),\n",
       " ('lyrical_distance', -0.13390723587827694),\n",
       " ('decade_90s', -0.11747016983801589),\n",
       " ('lyric_difficulty', -0.0993776891743674),\n",
       " ('r&b', -0.0927894169378361),\n",
       " ('foreign_language', -0.08637368733587945),\n",
       " ('num_entities', -0.08558918061252269),\n",
       " ('danceability', 0.07890509155470504),\n",
       " ('valence', -0.06021797730261019),\n",
       " ('lyric_variety', -0.057863982827012356),\n",
       " ('liveness', -0.05365890566087578),\n",
       " ('tempo', -0.04636009707753997),\n",
       " ('acousticness', 0.04403359141084599),\n",
       " ('sentiment', -0.04331698204916694),\n",
       " ('speechiness', 0.041315968319679604),\n",
       " ('hit_writers', -0.030317558408101436),\n",
       " ('hit_producers', 0.028478630086064955),\n",
       " ('instrumentalness', 0.017959161865168344),\n",
       " ('duration_ms', -0.017400693964908898),\n",
       " ('loudness', 0.010351954140143307),\n",
       " ('mode_1', 0.003640329834614405),\n",
       " ('feature_distance', -0.0009586215748376486),\n",
       " ('Weeks on Chart', 0.0006202276452171688)]"
      ]
     },
     "execution_count": 15,
     "metadata": {},
     "output_type": "execute_result"
    }
   ],
   "source": [
    "sorted(list(zip(X_trainval.columns,lr_l2.coef_[0])),key=lambda x:np.abs(x[1]),reverse=True)"
   ]
  },
  {
   "cell_type": "markdown",
   "metadata": {},
   "source": [
    "# SVM"
   ]
  },
  {
   "cell_type": "code",
   "execution_count": 16,
   "metadata": {},
   "outputs": [
    {
     "name": "stdout",
     "output_type": "stream",
     "text": [
      "Linear SVM best parameter {'C': 0.00029763514416313193} and F1 score 0.6549436302993615\n"
     ]
    }
   ],
   "source": [
    "#SVM- Logistic Regression is better, so let's just go with that\n",
    "parameters={'C':10**(np.linspace(-4,-1,20))}\n",
    "lin_svm=LinearSVC(dual=False)\n",
    "clf=GridSearchCV(lin_svm,parameters,cv=5,scoring='f1')\n",
    "X_trainval_scaled=std.fit_transform(X_trainval)\n",
    "clf.fit(X_trainval_scaled,y_trainval)\n",
    "print(\"Linear SVM best parameter\",clf.best_params_,\"and F1 score\",clf.best_score_)"
   ]
  },
  {
   "cell_type": "code",
   "execution_count": 17,
   "metadata": {},
   "outputs": [
    {
     "name": "stdout",
     "output_type": "stream",
     "text": [
      "Linear SVM\n",
      "accuracy_scores_train 0.6829166666666667\n",
      "f1_scores_train 0.6703083877568187\n",
      "roc_auc_scores_train 0.7538182215824587\n",
      "recall_scores_train 0.6744152994174356\n",
      "precision_scores_train 0.6665758540993101\n",
      "accuracy_scores_val 0.6675\n",
      "f1_scores_val 0.6552103962882382\n",
      "roc_auc_scores_val 0.7292624582397778\n",
      "recall_scores_val 0.664942773376783\n",
      "precision_scores_val 0.647019182164793\n"
     ]
    }
   ],
   "source": [
    "lin_svm=LinearSVC(dual=False,C=.0015)\n",
    "print('Linear SVM')\n",
    "class_model(lin_svm,X_trainval,y_trainval,scaling=1);"
   ]
  },
  {
   "cell_type": "markdown",
   "metadata": {},
   "source": [
    "# KNN"
   ]
  },
  {
   "cell_type": "code",
   "execution_count": 18,
   "metadata": {},
   "outputs": [
    {
     "name": "stdout",
     "output_type": "stream",
     "text": [
      "KNN\n",
      "accuracy_scores_train 0.7627083333333333\n",
      "f1_scores_train 0.7574652423023914\n",
      "roc_auc_scores_train 0.8372660643118556\n",
      "recall_scores_train 0.7747202956431923\n",
      "precision_scores_train 0.7411815707507575\n",
      "accuracy_scores_val 0.6408333333333334\n",
      "f1_scores_val 0.6355978757166713\n",
      "roc_auc_scores_val 0.6865621426952069\n",
      "recall_scores_val 0.6565053216295522\n",
      "precision_scores_val 0.6179554064263733\n"
     ]
    }
   ],
   "source": [
    "knn=KNeighborsClassifier(n_neighbors=5)\n",
    "print('KNN')\n",
    "class_model(knn,X_trainval,y_trainval,scaling=1);"
   ]
  },
  {
   "cell_type": "markdown",
   "metadata": {},
   "source": [
    "# XGBoost"
   ]
  },
  {
   "cell_type": "code",
   "execution_count": 19,
   "metadata": {},
   "outputs": [
    {
     "name": "stdout",
     "output_type": "stream",
     "text": [
      "XGBoost\n",
      "accuracy_scores_train 0.8152083333333333\n",
      "f1_scores_train 0.8064572658970077\n",
      "roc_auc_scores_train 0.8987954752830941\n",
      "recall_scores_train 0.8038842022879658\n",
      "precision_scores_train 0.8093158453684269\n",
      "accuracy_scores_val 0.6608333333333333\n",
      "f1_scores_val 0.6410379561184498\n",
      "roc_auc_scores_val 0.7160918130545204\n",
      "recall_scores_val 0.6364765168959379\n",
      "precision_scores_val 0.6464765274250347\n"
     ]
    }
   ],
   "source": [
    "print('XGBoost')\n",
    "gbm = xgb.XGBClassifier(\n",
    "    n_estimators=30000,  #arbitrary large number\n",
    "    max_depth=3,\n",
    "    objective=\"binary:logistic\",\n",
    "    learning_rate=.05,\n",
    "    subsample=.7,\n",
    "    min_child_weight=3,\n",
    "    colsample_bytree=.6,\n",
    "    n_jobs=-1,\n",
    "    reg_alpha=.1,\n",
    "    reg_lambda=1.1,\n",
    "    random_state=4)\n",
    "\n",
    "class_model(gbm,X_trainval,y_trainval,early_stopping_rounds=50);"
   ]
  },
  {
   "cell_type": "code",
   "execution_count": 20,
   "metadata": {},
   "outputs": [
    {
     "data": {
      "text/plain": [
       "<matplotlib.axes._subplots.AxesSubplot at 0x3a484f3710>"
      ]
     },
     "execution_count": 20,
     "metadata": {},
     "output_type": "execute_result"
    },
    {
     "data": {
      "image/png": "[encoded data removed]",
      "text/plain": [
       "<Figure size 432x288 with 1 Axes>"
      ]
     },
     "metadata": {
      "needs_background": "light"
     },
     "output_type": "display_data"
    },
    {
     "data": {
      "image/png": "[encoded data removed]",
      "text/plain": [
       "<Figure size 432x288 with 1 Axes>"
      ]
     },
     "metadata": {
      "needs_background": "light"
     },
     "output_type": "display_data"
    }
   ],
   "source": [
    "xgb.plot_importance(gbm)\n",
    "xgb.plot_importance(gbm, importance_type='gain')"
   ]
  },
  {
   "cell_type": "markdown",
   "metadata": {},
   "source": [
    "# Keras"
   ]
  },
  {
   "cell_type": "code",
   "execution_count": 21,
   "metadata": {},
   "outputs": [
    {
     "name": "stdout",
     "output_type": "stream",
     "text": [
      "WARNING:tensorflow:From /opt/anaconda3/envs/metis/lib/python3.7/site-packages/tensorflow/python/ops/resource_variable_ops.py:435: colocate_with (from tensorflow.python.framework.ops) is deprecated and will be removed in a future version.\n",
      "Instructions for updating:\n",
      "Colocations handled automatically by placer.\n"
     ]
    }
   ],
   "source": [
    "keras_model = keras.Sequential([\n",
    "    keras.layers.InputLayer(input_shape=X_trainval_scaled.shape[1:]),\n",
    "    keras.layers.Dense(units=10, activation=\"relu\",\n",
    "                       kernel_regularizer=keras.regularizers.l2(0.1)),\n",
    "    keras.layers.Dropout(0.1),\n",
    "    keras.layers.Dense(units=5, activation=\"relu\",\n",
    "                       kernel_regularizer=keras.regularizers.l2(0.001)),\n",
    "    keras.layers.Dense(units=1, activation=\"sigmoid\"),\n",
    "])\n",
    "callbacks=[keras.callbacks.EarlyStopping(monitor='loss', patience=8, verbose=1, restore_best_weights=True),\n",
    "        keras.callbacks.ReduceLROnPlateau(monitor='loss', factor=.5, patience=3, verbose=0),]\n",
    "compiler='model_copy.compile(keras.optimizers.adam(lr=0.001), loss=\"binary_crossentropy\", metrics=[\"acc\"])'"
   ]
  },
  {
   "cell_type": "code",
   "execution_count": 22,
   "metadata": {},
   "outputs": [
    {
     "name": "stdout",
     "output_type": "stream",
     "text": [
      "WARNING:tensorflow:From /opt/anaconda3/envs/metis/lib/python3.7/site-packages/tensorflow/python/ops/math_ops.py:3066: to_int32 (from tensorflow.python.ops.math_ops) is deprecated and will be removed in a future version.\n",
      "Instructions for updating:\n",
      "Use tf.cast instead.\n",
      "Restoring model weights from the end of the best epoch\n",
      "Epoch 00054: early stopping\n"
     ]
    },
    {
     "name": "stderr",
     "output_type": "stream",
     "text": [
      "/Users/elarson649/Desktop/Metis/Project-5/class_model.py:120: RuntimeWarning: invalid value encountered in true_divide\n",
      "  fbeta_curve = (2 * precision_curve[1:] * recall_curve[1:]) / (precision_curve[1:] + recall_curve[1:])\n"
     ]
    },
    {
     "name": "stdout",
     "output_type": "stream",
     "text": [
      "Restoring model weights from the end of the best epoch\n",
      "Epoch 00056: early stopping\n",
      "Restoring model weights from the end of the best epoch\n",
      "Epoch 00058: early stopping\n",
      "Restoring model weights from the end of the best epoch\n",
      "Epoch 00058: early stopping\n",
      "Restoring model weights from the end of the best epoch\n",
      "Epoch 00089: early stopping\n",
      "threshold_val 0.35900164\n",
      "f1_threshold_val 0.7124211654346267\n",
      "accuracy_scores_train 0.7166666666666666\n",
      "f1_scores_train 0.7035240453887285\n",
      "roc_auc_scores_train 0.7882427694416158\n",
      "recall_scores_train 0.7035706517411588\n",
      "precision_scores_train 0.704136588353059\n",
      "accuracy_scores_val 0.6691666666666667\n",
      "f1_scores_val 0.655043774271065\n",
      "roc_auc_scores_val 0.7398601459576372\n",
      "recall_scores_val 0.660213442137308\n",
      "precision_scores_val 0.6514136598999796\n"
     ]
    }
   ],
   "source": [
    "keras_model=class_model(keras_model, X_trainval, y_trainval, scaling=1, callbacks=callbacks, epochs=1000, threshold=1, compiler=compiler)"
   ]
  },
  {
   "cell_type": "markdown",
   "metadata": {},
   "source": [
    "# Winning Model"
   ]
  },
  {
   "cell_type": "code",
   "execution_count": 23,
   "metadata": {},
   "outputs": [],
   "source": [
    "keras_model = keras.Sequential([\n",
    "    keras.layers.InputLayer(input_shape=X_trainval_scaled.shape[1:]),\n",
    "    keras.layers.Dense(units=10, activation=\"relu\",\n",
    "                       kernel_regularizer=keras.regularizers.l2(0.1)),\n",
    "    keras.layers.Dropout(0.1),\n",
    "    keras.layers.Dense(units=5, activation=\"relu\",\n",
    "                       kernel_regularizer=keras.regularizers.l2(0.001)),\n",
    "    keras.layers.Dense(units=1, activation=\"sigmoid\"),\n",
    "])\n",
    "callbacks=[keras.callbacks.EarlyStopping(monitor='loss', patience=8, verbose=1, restore_best_weights=True),\n",
    "        keras.callbacks.ReduceLROnPlateau(monitor='loss', factor=.5, patience=3, verbose=0),]\n",
    "keras_model.compile(keras.optimizers.adam(lr=0.001), loss=\"binary_crossentropy\", metrics=[\"acc\"])"
   ]
  },
  {
   "cell_type": "code",
   "execution_count": 24,
   "metadata": {},
   "outputs": [
    {
     "name": "stdout",
     "output_type": "stream",
     "text": [
      "Restoring model weights from the end of the best epoch\n",
      "Epoch 00045: early stopping\n"
     ]
    },
    {
     "data": {
      "image/png": "[encoded data removed]",
      "text/plain": [
       "<Figure size 480x320 with 1 Axes>"
      ]
     },
     "metadata": {
      "needs_background": "light"
     },
     "output_type": "display_data"
    }
   ],
   "source": [
    "# Let's create a precision-recall curve and use those scores to calculate F-beta\n",
    "keras_model.fit(X_trainval_scaled, y_trainval, epochs=1000, callbacks=callbacks, verbose=0)\n",
    "precision_curve, recall_curve, threshold_curve = precision_recall_curve(y_test, keras_model.predict(X_test_scaled))\n",
    "fscore=(2*precision_curve[1:]*recall_curve[1:])/(precision_curve[1:]+recall_curve[1:])\n",
    "plt.figure(dpi=80)\n",
    "plt.plot(threshold_curve, precision_curve[1:],label='precision')\n",
    "plt.plot(threshold_curve, recall_curve[1:], label='recall')\n",
    "plt.plot(threshold_curve,fscore,label='fscore')\n",
    "plt.legend(loc='lower left')\n",
    "plt.xlabel('Threshold (above this probability, classify as one-hit wonder)');\n",
    "plt.title('Precision and Recall Curves');\n",
    "plt.savefig('precisionrecall.png',bbox_inches='tight')"
   ]
  },
  {
   "cell_type": "code",
   "execution_count": 25,
   "metadata": {},
   "outputs": [
    {
     "name": "stdout",
     "output_type": "stream",
     "text": [
      "Final test accuracy: 0.66\n",
      "Final test Fscore: 0.7134831460674157\n",
      "Final test ROC AUC: 0.72872150997151\n",
      "Final test recall: 0.8819444444444444\n",
      "Final test precision: 0.5990566037735849\n"
     ]
    }
   ],
   "source": [
    "#Threshold comes from validation testing\n",
    "threshold_val=0.358\n",
    "predict_proba=keras_model.predict(X_test_scaled)\n",
    "predict_with_thres=(predict_proba>threshold_val)*1\n",
    "print('Final test accuracy:',accuracy_score(y_test,predict_with_thres))\n",
    "print('Final test Fscore:',f1_score(y_test,predict_with_thres))  \n",
    "print('Final test ROC AUC:',roc_auc_score(y_test,predict_proba))\n",
    "print('Final test recall:', recall_score(y_test,predict_with_thres))\n",
    "print('Final test precision:',precision_score(y_test,predict_with_thres))"
   ]
  },
  {
   "cell_type": "code",
   "execution_count": 26,
   "metadata": {},
   "outputs": [
    {
     "data": {
      "image/png": "[encoded data removed]",
      "text/plain": [
       "<Figure size 900x600 with 2 Axes>"
      ]
     },
     "metadata": {
      "needs_background": "light"
     },
     "output_type": "display_data"
    }
   ],
   "source": [
    "# Print confusion matrix for logistic regression\n",
    "lr_confusion = confusion_matrix(y_test,predict_with_thres)\n",
    "plt.figure(dpi=150)\n",
    "sns.heatmap(lr_confusion,cmap='Blues', annot=True, square=True,\n",
    "           xticklabels=['Multiple successful\\nsongs','One-hit wonder'],\n",
    "           yticklabels=['Multiple successful\\nsongs','One-hit wonder'],fmt='d')\n",
    "plt.xlabel('Predicted')\n",
    "plt.ylabel('Actual',rotation=0)\n",
    "plt.yticks(rotation=0) \n",
    "plt.title('Confusion Matrix for One-Hit Wonder')\n",
    "plt.savefig('confusionmatrix.png',bbox_inches='tight')"
   ]
  },
  {
   "cell_type": "markdown",
   "metadata": {
    "heading_collapsed": true
   },
   "source": [
    "# EDA"
   ]
  },
  {
   "cell_type": "code",
   "execution_count": null,
   "metadata": {
    "hidden": true
   },
   "outputs": [],
   "source": [
    "df_first['one_hit']=df_first['total_songs_on_chart'].where(df_first['total_songs_on_chart']==1,0)\n",
    "test=df_first[['one_hit','genres']]\n",
    "test['num_genres']=test['genres'].apply(lambda x:len(x))\n",
    "test.groupby('one_hit')['num_genres'].mean()"
   ]
  },
  {
   "cell_type": "code",
   "execution_count": null,
   "metadata": {
    "hidden": true
   },
   "outputs": [],
   "source": [
    "category='mode_1'\n",
    "(df_model.groupby([category,'one_hit'])['one_hit'].count())/(df_model.groupby([category])[category].count())"
   ]
  },
  {
   "cell_type": "code",
   "execution_count": null,
   "metadata": {
    "hidden": true
   },
   "outputs": [],
   "source": [
    "category='Featured_Performer'\n",
    "(df_model.groupby([category,'one_hit'])['one_hit'].count())/(df_model.groupby([category])[category].count())"
   ]
  },
  {
   "cell_type": "code",
   "execution_count": null,
   "metadata": {
    "hidden": true
   },
   "outputs": [],
   "source": [
    "category='lyric_outlier'\n",
    "(df_model.groupby([category,'one_hit'])['one_hit'].count())/(df_model.groupby([category])[category].count())"
   ]
  },
  {
   "cell_type": "code",
   "execution_count": null,
   "metadata": {
    "hidden": true
   },
   "outputs": [],
   "source": [
    "df_model.groupby('one_hit')['genre_score'].mean()"
   ]
  },
  {
   "cell_type": "code",
   "execution_count": null,
   "metadata": {
    "hidden": true
   },
   "outputs": [],
   "source": [
    "df_model.groupby('one_hit')['num_entities'].mean()"
   ]
  },
  {
   "cell_type": "code",
   "execution_count": null,
   "metadata": {
    "hidden": true
   },
   "outputs": [],
   "source": [
    "df_model.groupby('one_hit')['lyrical_distance'].mean()"
   ]
  },
  {
   "cell_type": "code",
   "execution_count": null,
   "metadata": {
    "hidden": true
   },
   "outputs": [],
   "source": [
    "df_model.groupby('one_hit')['lyric_variety'].mean()"
   ]
  },
  {
   "cell_type": "code",
   "execution_count": null,
   "metadata": {
    "hidden": true
   },
   "outputs": [],
   "source": [
    "df_model.groupby('one_hit')['foreign_language'].mean()"
   ]
  },
  {
   "cell_type": "code",
   "execution_count": null,
   "metadata": {
    "hidden": true
   },
   "outputs": [],
   "source": [
    "df_model.groupby('one_hit')['sentiment'].mean()"
   ]
  },
  {
   "cell_type": "code",
   "execution_count": null,
   "metadata": {
    "hidden": true
   },
   "outputs": [],
   "source": [
    "df_model.groupby('one_hit')['hit_producers'].mean()"
   ]
  },
  {
   "cell_type": "code",
   "execution_count": null,
   "metadata": {
    "hidden": true
   },
   "outputs": [],
   "source": [
    "df_model.groupby('one_hit')['hit_writers'].mean()"
   ]
  },
  {
   "cell_type": "code",
   "execution_count": null,
   "metadata": {
    "hidden": true
   },
   "outputs": [],
   "source": [
    "df_model.groupby('one_hit')['Weeks on Chart'].mean()"
   ]
  },
  {
   "cell_type": "code",
   "execution_count": null,
   "metadata": {
    "hidden": true
   },
   "outputs": [],
   "source": [
    "corr=X.corr()\n",
    "np.fill_diagonal(corr.values, np.nan)\n",
    "high_corr=[]\n",
    "for column in corr:\n",
    "    for number,row in enumerate(corr[column]):\n",
    "        if row > .5:\n",
    "            high_corr.append(((column,corr.index[number]),row))\n",
    "print(high_corr)"
   ]
  },
  {
   "cell_type": "markdown",
   "metadata": {},
   "source": [
    "# P-values"
   ]
  },
  {
   "cell_type": "code",
   "execution_count": 27,
   "metadata": {},
   "outputs": [],
   "source": [
    "import numpy as np\n",
    "import statsmodels.api as sm"
   ]
  },
  {
   "cell_type": "code",
   "execution_count": 28,
   "metadata": {},
   "outputs": [],
   "source": [
    "n=X_trainval_scaled.shape[0]\n",
    "X0 = np.ones((n,1))\n",
    "X_statsmodel = np.hstack((X0, X_trainval_scaled))"
   ]
  },
  {
   "cell_type": "code",
   "execution_count": 29,
   "metadata": {},
   "outputs": [],
   "source": [
    "features=list(X_trainval.columns)\n",
    "features.insert(0,'intercept')"
   ]
  },
  {
   "cell_type": "code",
   "execution_count": 30,
   "metadata": {},
   "outputs": [
    {
     "name": "stdout",
     "output_type": "stream",
     "text": [
      "Optimization terminated successfully.    (Exit mode 0)\n",
      "            Current function value: 0.5887137818650444\n",
      "            Iterations: 63\n",
      "            Function evaluations: 64\n",
      "            Gradient evaluations: 63\n"
     ]
    }
   ],
   "source": [
    "model = sm.Logit(y_trainval, X_statsmodel)\n",
    "result = model.fit_regularized(alpha=1,L1_wt=1)"
   ]
  },
  {
   "cell_type": "code",
   "execution_count": 31,
   "metadata": {},
   "outputs": [
    {
     "name": "stderr",
     "output_type": "stream",
     "text": [
      "/opt/anaconda3/envs/metis/lib/python3.7/site-packages/scipy/stats/_distn_infrastructure.py:901: RuntimeWarning: invalid value encountered in greater\n",
      "  return (a < x) & (x < b)\n",
      "/opt/anaconda3/envs/metis/lib/python3.7/site-packages/scipy/stats/_distn_infrastructure.py:901: RuntimeWarning: invalid value encountered in less\n",
      "  return (a < x) & (x < b)\n",
      "/opt/anaconda3/envs/metis/lib/python3.7/site-packages/scipy/stats/_distn_infrastructure.py:1892: RuntimeWarning: invalid value encountered in less_equal\n",
      "  cond2 = cond0 & (x <= _a)\n"
     ]
    },
    {
     "data": {
      "text/html": [
       "<table class=\"simpletable\">\n",
       "<caption>Logit Regression Results</caption>\n",
       "<tr>\n",
       "  <th>Dep. Variable:</th>        <td>one_hit</td>     <th>  No. Observations:  </th>  <td>  1200</td>  \n",
       "</tr>\n",
       "<tr>\n",
       "  <th>Model:</th>                 <td>Logit</td>      <th>  Df Residuals:      </th>  <td>  1167</td>  \n",
       "</tr>\n",
       "<tr>\n",
       "  <th>Method:</th>                 <td>MLE</td>       <th>  Df Model:          </th>  <td>    32</td>  \n",
       "</tr>\n",
       "<tr>\n",
       "  <th>Date:</th>            <td>Sat, 20 Jun 2020</td> <th>  Pseudo R-squ.:     </th>  <td>0.1553</td>  \n",
       "</tr>\n",
       "<tr>\n",
       "  <th>Time:</th>                <td>14:47:07</td>     <th>  Log-Likelihood:    </th> <td> -701.67</td> \n",
       "</tr>\n",
       "<tr>\n",
       "  <th>converged:</th>             <td>True</td>       <th>  LL-Null:           </th> <td> -830.65</td> \n",
       "</tr>\n",
       "<tr>\n",
       "  <th>Covariance Type:</th>     <td>nonrobust</td>    <th>  LLR p-value:       </th> <td>3.804e-37</td>\n",
       "</tr>\n",
       "</table>\n",
       "<table class=\"simpletable\">\n",
       "<tr>\n",
       "           <td></td>             <th>coef</th>     <th>std err</th>      <th>z</th>      <th>P>|z|</th>  <th>[0.025</th>    <th>0.975]</th>  \n",
       "</tr>\n",
       "<tr>\n",
       "  <th>intercept</th>          <td>   -0.1124</td> <td>    0.065</td> <td>   -1.735</td> <td> 0.083</td> <td>   -0.239</td> <td>    0.015</td>\n",
       "</tr>\n",
       "<tr>\n",
       "  <th>peak_position</th>      <td>    0.2514</td> <td>    0.085</td> <td>    2.964</td> <td> 0.003</td> <td>    0.085</td> <td>    0.418</td>\n",
       "</tr>\n",
       "<tr>\n",
       "  <th>Weeks on Chart</th>     <td>         0</td> <td>      nan</td> <td>      nan</td> <td>   nan</td> <td>      nan</td> <td>      nan</td>\n",
       "</tr>\n",
       "<tr>\n",
       "  <th>Featured_Performer</th> <td>    0.1576</td> <td>    0.075</td> <td>    2.105</td> <td> 0.035</td> <td>    0.011</td> <td>    0.304</td>\n",
       "</tr>\n",
       "<tr>\n",
       "  <th>danceability</th>       <td>    0.1648</td> <td>    0.090</td> <td>    1.835</td> <td> 0.067</td> <td>   -0.011</td> <td>    0.341</td>\n",
       "</tr>\n",
       "<tr>\n",
       "  <th>loudness</th>           <td>    0.0211</td> <td>    0.082</td> <td>    0.256</td> <td> 0.798</td> <td>   -0.140</td> <td>    0.183</td>\n",
       "</tr>\n",
       "<tr>\n",
       "  <th>speechiness</th>        <td>    0.1055</td> <td>    0.097</td> <td>    1.084</td> <td> 0.278</td> <td>   -0.085</td> <td>    0.296</td>\n",
       "</tr>\n",
       "<tr>\n",
       "  <th>acousticness</th>       <td>    0.0528</td> <td>    0.075</td> <td>    0.708</td> <td> 0.479</td> <td>   -0.093</td> <td>    0.199</td>\n",
       "</tr>\n",
       "<tr>\n",
       "  <th>instrumentalness</th>   <td>    0.0597</td> <td>    0.075</td> <td>    0.793</td> <td> 0.428</td> <td>   -0.088</td> <td>    0.207</td>\n",
       "</tr>\n",
       "<tr>\n",
       "  <th>liveness</th>           <td>   -0.0582</td> <td>    0.069</td> <td>   -0.841</td> <td> 0.400</td> <td>   -0.194</td> <td>    0.077</td>\n",
       "</tr>\n",
       "<tr>\n",
       "  <th>valence</th>            <td>   -0.0831</td> <td>    0.081</td> <td>   -1.031</td> <td> 0.302</td> <td>   -0.241</td> <td>    0.075</td>\n",
       "</tr>\n",
       "<tr>\n",
       "  <th>tempo</th>              <td>   -0.0028</td> <td>    0.068</td> <td>   -0.041</td> <td> 0.968</td> <td>   -0.136</td> <td>    0.130</td>\n",
       "</tr>\n",
       "<tr>\n",
       "  <th>duration_ms</th>        <td>   -0.0185</td> <td>    0.074</td> <td>   -0.248</td> <td> 0.804</td> <td>   -0.164</td> <td>    0.127</td>\n",
       "</tr>\n",
       "<tr>\n",
       "  <th>hit_writers</th>        <td>   -0.0226</td> <td>    0.077</td> <td>   -0.295</td> <td> 0.768</td> <td>   -0.173</td> <td>    0.128</td>\n",
       "</tr>\n",
       "<tr>\n",
       "  <th>hit_producers</th>      <td>    0.0444</td> <td>    0.072</td> <td>    0.614</td> <td> 0.539</td> <td>   -0.097</td> <td>    0.186</td>\n",
       "</tr>\n",
       "<tr>\n",
       "  <th>country</th>            <td>   -0.4147</td> <td>    0.077</td> <td>   -5.387</td> <td> 0.000</td> <td>   -0.566</td> <td>   -0.264</td>\n",
       "</tr>\n",
       "<tr>\n",
       "  <th>hip hop</th>            <td>   -0.5255</td> <td>    0.106</td> <td>   -4.935</td> <td> 0.000</td> <td>   -0.734</td> <td>   -0.317</td>\n",
       "</tr>\n",
       "<tr>\n",
       "  <th>pop</th>                <td>   -0.1596</td> <td>    0.089</td> <td>   -1.788</td> <td> 0.074</td> <td>   -0.335</td> <td>    0.015</td>\n",
       "</tr>\n",
       "<tr>\n",
       "  <th>r&b</th>                <td>   -0.0713</td> <td>    0.080</td> <td>   -0.888</td> <td> 0.375</td> <td>   -0.229</td> <td>    0.086</td>\n",
       "</tr>\n",
       "<tr>\n",
       "  <th>rock</th>               <td>   -0.1632</td> <td>    0.089</td> <td>   -1.838</td> <td> 0.066</td> <td>   -0.337</td> <td>    0.011</td>\n",
       "</tr>\n",
       "<tr>\n",
       "  <th>mode_1</th>             <td>   -0.0609</td> <td>    0.068</td> <td>   -0.898</td> <td> 0.369</td> <td>   -0.194</td> <td>    0.072</td>\n",
       "</tr>\n",
       "<tr>\n",
       "  <th>lyric_variety</th>      <td>   -0.0159</td> <td>    0.077</td> <td>   -0.206</td> <td> 0.837</td> <td>   -0.168</td> <td>    0.136</td>\n",
       "</tr>\n",
       "<tr>\n",
       "  <th>foreign_language</th>   <td>   -0.1161</td> <td>    0.074</td> <td>   -1.579</td> <td> 0.114</td> <td>   -0.260</td> <td>    0.028</td>\n",
       "</tr>\n",
       "<tr>\n",
       "  <th>lyric_difficulty</th>   <td>   -0.1773</td> <td>    0.119</td> <td>   -1.493</td> <td> 0.135</td> <td>   -0.410</td> <td>    0.055</td>\n",
       "</tr>\n",
       "<tr>\n",
       "  <th>num_entities</th>       <td>   -0.1239</td> <td>    0.087</td> <td>   -1.426</td> <td> 0.154</td> <td>   -0.294</td> <td>    0.046</td>\n",
       "</tr>\n",
       "<tr>\n",
       "  <th>sentiment</th>          <td>   -0.0212</td> <td>    0.067</td> <td>   -0.316</td> <td> 0.752</td> <td>   -0.152</td> <td>    0.110</td>\n",
       "</tr>\n",
       "<tr>\n",
       "  <th>lyrical_distance</th>   <td>   -0.1661</td> <td>    0.068</td> <td>   -2.450</td> <td> 0.014</td> <td>   -0.299</td> <td>   -0.033</td>\n",
       "</tr>\n",
       "<tr>\n",
       "  <th>genre_score</th>        <td>   -0.3794</td> <td>    0.096</td> <td>   -3.945</td> <td> 0.000</td> <td>   -0.568</td> <td>   -0.191</td>\n",
       "</tr>\n",
       "<tr>\n",
       "  <th>feature_distance</th>   <td>   -0.0110</td> <td>    0.087</td> <td>   -0.126</td> <td> 0.900</td> <td>   -0.182</td> <td>    0.160</td>\n",
       "</tr>\n",
       "<tr>\n",
       "  <th>peak_pos_chart_div</th> <td>   -0.3067</td> <td>    0.094</td> <td>   -3.261</td> <td> 0.001</td> <td>   -0.491</td> <td>   -0.122</td>\n",
       "</tr>\n",
       "<tr>\n",
       "  <th>dance</th>              <td>   -0.2932</td> <td>    0.080</td> <td>   -3.670</td> <td> 0.000</td> <td>   -0.450</td> <td>   -0.137</td>\n",
       "</tr>\n",
       "<tr>\n",
       "  <th>decade_10s</th>         <td>    0.2256</td> <td>    0.083</td> <td>    2.732</td> <td> 0.006</td> <td>    0.064</td> <td>    0.387</td>\n",
       "</tr>\n",
       "<tr>\n",
       "  <th>decade_80s</th>         <td>   -0.2282</td> <td>    0.106</td> <td>   -2.148</td> <td> 0.032</td> <td>   -0.436</td> <td>   -0.020</td>\n",
       "</tr>\n",
       "<tr>\n",
       "  <th>decade_90s</th>         <td>   -0.1698</td> <td>    0.089</td> <td>   -1.900</td> <td> 0.057</td> <td>   -0.345</td> <td>    0.005</td>\n",
       "</tr>\n",
       "</table>"
      ],
      "text/plain": [
       "<class 'statsmodels.iolib.summary.Summary'>\n",
       "\"\"\"\n",
       "                           Logit Regression Results                           \n",
       "==============================================================================\n",
       "Dep. Variable:                one_hit   No. Observations:                 1200\n",
       "Model:                          Logit   Df Residuals:                     1167\n",
       "Method:                           MLE   Df Model:                           32\n",
       "Date:                Sat, 20 Jun 2020   Pseudo R-squ.:                  0.1553\n",
       "Time:                        14:47:07   Log-Likelihood:                -701.67\n",
       "converged:                       True   LL-Null:                       -830.65\n",
       "Covariance Type:            nonrobust   LLR p-value:                 3.804e-37\n",
       "======================================================================================\n",
       "                         coef    std err          z      P>|z|      [0.025      0.975]\n",
       "--------------------------------------------------------------------------------------\n",
       "intercept             -0.1124      0.065     -1.735      0.083      -0.239       0.015\n",
       "peak_position          0.2514      0.085      2.964      0.003       0.085       0.418\n",
       "Weeks on Chart              0        nan        nan        nan         nan         nan\n",
       "Featured_Performer     0.1576      0.075      2.105      0.035       0.011       0.304\n",
       "danceability           0.1648      0.090      1.835      0.067      -0.011       0.341\n",
       "loudness               0.0211      0.082      0.256      0.798      -0.140       0.183\n",
       "speechiness            0.1055      0.097      1.084      0.278      -0.085       0.296\n",
       "acousticness           0.0528      0.075      0.708      0.479      -0.093       0.199\n",
       "instrumentalness       0.0597      0.075      0.793      0.428      -0.088       0.207\n",
       "liveness              -0.0582      0.069     -0.841      0.400      -0.194       0.077\n",
       "valence               -0.0831      0.081     -1.031      0.302      -0.241       0.075\n",
       "tempo                 -0.0028      0.068     -0.041      0.968      -0.136       0.130\n",
       "duration_ms           -0.0185      0.074     -0.248      0.804      -0.164       0.127\n",
       "hit_writers           -0.0226      0.077     -0.295      0.768      -0.173       0.128\n",
       "hit_producers          0.0444      0.072      0.614      0.539      -0.097       0.186\n",
       "country               -0.4147      0.077     -5.387      0.000      -0.566      -0.264\n",
       "hip hop               -0.5255      0.106     -4.935      0.000      -0.734      -0.317\n",
       "pop                   -0.1596      0.089     -1.788      0.074      -0.335       0.015\n",
       "r&b                   -0.0713      0.080     -0.888      0.375      -0.229       0.086\n",
       "rock                  -0.1632      0.089     -1.838      0.066      -0.337       0.011\n",
       "mode_1                -0.0609      0.068     -0.898      0.369      -0.194       0.072\n",
       "lyric_variety         -0.0159      0.077     -0.206      0.837      -0.168       0.136\n",
       "foreign_language      -0.1161      0.074     -1.579      0.114      -0.260       0.028\n",
       "lyric_difficulty      -0.1773      0.119     -1.493      0.135      -0.410       0.055\n",
       "num_entities          -0.1239      0.087     -1.426      0.154      -0.294       0.046\n",
       "sentiment             -0.0212      0.067     -0.316      0.752      -0.152       0.110\n",
       "lyrical_distance      -0.1661      0.068     -2.450      0.014      -0.299      -0.033\n",
       "genre_score           -0.3794      0.096     -3.945      0.000      -0.568      -0.191\n",
       "feature_distance      -0.0110      0.087     -0.126      0.900      -0.182       0.160\n",
       "peak_pos_chart_div    -0.3067      0.094     -3.261      0.001      -0.491      -0.122\n",
       "dance                 -0.2932      0.080     -3.670      0.000      -0.450      -0.137\n",
       "decade_10s             0.2256      0.083      2.732      0.006       0.064       0.387\n",
       "decade_80s            -0.2282      0.106     -2.148      0.032      -0.436      -0.020\n",
       "decade_90s            -0.1698      0.089     -1.900      0.057      -0.345       0.005\n",
       "======================================================================================\n",
       "\"\"\""
      ]
     },
     "execution_count": 31,
     "metadata": {},
     "output_type": "execute_result"
    }
   ],
   "source": [
    "result.summary(xname=features)"
   ]
  },
  {
   "cell_type": "markdown",
   "metadata": {},
   "source": [
    "# Feature importance"
   ]
  },
  {
   "cell_type": "code",
   "execution_count": 32,
   "metadata": {},
   "outputs": [],
   "source": [
    "from sklearn.feature_selection import RFE"
   ]
  },
  {
   "cell_type": "code",
   "execution_count": 33,
   "metadata": {},
   "outputs": [],
   "source": [
    "fit_model=LogisticRegression(solver='liblinear',C=.07,penalty='l1')\n",
    "rfe = RFE(fit_model, 1)\n",
    "fit = rfe.fit(X_trainval_scaled,y_trainval)"
   ]
  },
  {
   "cell_type": "code",
   "execution_count": 34,
   "metadata": {},
   "outputs": [
    {
     "data": {
      "text/plain": [
       "Index(['genre_score', 'peak_position', 'decade_10s', 'country', 'dance',\n",
       "       'peak_pos_chart_div', 'hip hop', 'rock', 'Featured_Performer',\n",
       "       'decade_80s', 'pop', 'lyrical_distance', 'danceability', 'decade_90s',\n",
       "       'speechiness', 'foreign_language', 'lyric_difficulty', 'r&b',\n",
       "       'liveness', 'lyric_variety', 'hit_producers', 'instrumentalness',\n",
       "       'acousticness', 'loudness', 'num_entities', 'valence', 'sentiment',\n",
       "       'feature_distance', 'Weeks on Chart', 'tempo', 'mode_1', 'hit_writers',\n",
       "       'duration_ms'],\n",
       "      dtype='object')"
      ]
     },
     "execution_count": 34,
     "metadata": {},
     "output_type": "execute_result"
    }
   ],
   "source": [
    "X_trainval.columns[np.argsort(fit.ranking_)]"
   ]
  },
  {
   "cell_type": "markdown",
   "metadata": {},
   "source": [
    "# Graphs"
   ]
  },
  {
   "cell_type": "code",
   "execution_count": 35,
   "metadata": {},
   "outputs": [
    {
     "data": {
      "image/png": "[encoded data removed]",
      "text/plain": [
       "<Figure size 432x288 with 1 Axes>"
      ]
     },
     "metadata": {},
     "output_type": "display_data"
    }
   ],
   "source": [
    "moving_average_graph(df, 'genre_score', 100, x_label='Popularity of Genre', y_label='Probability One-Hit Wonder')"
   ]
  },
  {
   "cell_type": "code",
   "execution_count": 36,
   "metadata": {},
   "outputs": [
    {
     "data": {
      "image/png": "[encoded data removed]",
      "text/plain": [
       "<Figure size 432x288 with 1 Axes>"
      ]
     },
     "metadata": {},
     "output_type": "display_data"
    }
   ],
   "source": [
    "moving_average_graph(df, 'lyrical_distance', 200, x_label='Uniqueness of Lyrics', y_label='Probability of One-Hit Wonder')"
   ]
  },
  {
   "cell_type": "code",
   "execution_count": 37,
   "metadata": {},
   "outputs": [
    {
     "data": {
      "image/png": "[encoded data removed]",
      "text/plain": [
       "<Figure size 432x288 with 1 Axes>"
      ]
     },
     "metadata": {},
     "output_type": "display_data"
    }
   ],
   "source": [
    "moving_average_graph(df, 'peak_pos_chart_div', 200, x_label='Overall Chart Success\\n(Weeks on Chart/Peak Position)', y_label='Probability One-Hit Wonder')"
   ]
  },
  {
   "cell_type": "code",
   "execution_count": null,
   "metadata": {},
   "outputs": [],
   "source": []
  }
 ],
 "metadata": {
  "kernelspec": {
   "display_name": "Python 3",
   "language": "python",
   "name": "python3"
  },
  "language_info": {
   "codemirror_mode": {
    "name": "ipython",
    "version": 3
   },
   "file_extension": ".py",
   "mimetype": "text/x-python",
   "name": "python",
   "nbconvert_exporter": "python",
   "pygments_lexer": "ipython3",
   "version": "3.7.4"
  },
  "toc": {
   "base_numbering": 1,
   "nav_menu": {},
   "number_sections": true,
   "sideBar": true,
   "skip_h1_title": false,
   "title_cell": "Table of Contents",
   "title_sidebar": "Contents",
   "toc_cell": false,
   "toc_position": {},
   "toc_section_display": true,
   "toc_window_display": false
  },
  "varInspector": {
   "cols": {
    "lenName": 16,
    "lenType": 16,
    "lenVar": 40
   },
   "kernels_config": {
    "python": {
     "delete_cmd_postfix": "",
     "delete_cmd_prefix": "del ",
     "library": "var_list.py",
     "varRefreshCmd": "print(var_dic_list())"
    },
    "r": {
     "delete_cmd_postfix": ") ",
     "delete_cmd_prefix": "rm(",
     "library": "var_list.r",
     "varRefreshCmd": "cat(var_dic_list()) "
    }
   },
   "types_to_exclude": [
    "module",
    "function",
    "builtin_function_or_method",
    "instance",
    "_Feature"
   ],
   "window_display": false
  }
 },
 "nbformat": 4,
 "nbformat_minor": 4
}
